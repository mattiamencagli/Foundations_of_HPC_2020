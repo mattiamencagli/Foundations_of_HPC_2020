{
 "cells": [
  {
   "cell_type": "code",
   "execution_count": null,
   "metadata": {},
   "outputs": [],
   "source": [
    "import matplotlib.pyplot as plt\n",
    "import numpy as np\n",
    "\n",
    "Tcomm=10**-6\n",
    "Tcomp=2*10**-9\n",
    "Tread=10**-4\n",
    "\n",
    "h=1200\n",
    "w=1600\n",
    "tot=h*w\n",
    "\n",
    "K\n",
    "\n",
    "for k in K:\n",
    "    T_ser=N*Tcomp\n",
    "\n",
    "    T_p=[ (Tcomp*(P-1+N/P) + Tread + 2*(P-1)*Tcomm) for P in range(1,101)]\n",
    "    T_p = np.asarray(T_p)\n",
    "\n",
    "\n"
   ]
  }
 ],
 "metadata": {
  "kernelspec": {
   "display_name": "Python 3",
   "language": "python",
   "name": "python3"
  },
  "language_info": {
   "codemirror_mode": {
    "name": "ipython",
    "version": 3
   },
   "file_extension": ".py",
   "mimetype": "text/x-python",
   "name": "python",
   "nbconvert_exporter": "python",
   "pygments_lexer": "ipython3",
   "version": "3.8.5"
  }
 },
 "nbformat": 4,
 "nbformat_minor": 4
}
