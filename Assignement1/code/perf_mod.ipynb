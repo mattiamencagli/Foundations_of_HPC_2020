{
 "cells": [
  {
   "cell_type": "code",
   "execution_count": 3,
   "metadata": {},
   "outputs": [
    {
     "name": "stdout",
     "output_type": "stream",
     "text": [
      "20000 ,  [3]\n",
      "100000 ,  [9]\n",
      "200000 ,  [13]\n",
      "1000000 ,  [31]\n",
      "20000000 ,  [99]\n"
     ]
    }
   ],
   "source": [
    "import matplotlib.pyplot as plt\n",
    "import numpy as np\n",
    "\n",
    "Tcomm=10**-6\n",
    "Tcomp=2*10**-9\n",
    "Tread=10**-4\n",
    "\n",
    "S=np.zeros((100,5))\n",
    "maxim=np.zeros((5))\n",
    "i=0\n",
    "f = open('performance-model.csv','w')\n",
    "f.write(\"#header: N, best P naive algorithm , best P for enhanced algorithm if any\\n\\n####\")\n",
    "for N in [20000, 100000, 200000, 1000000, 20000000]:\n",
    "    T_ser=N*Tcomp\n",
    "\n",
    "    T_p=[ (Tcomp*(P-1+N/P) + Tread + 2*(P-1)*Tcomm) for P in range(1,101)]\n",
    "    T_p = np.asarray(T_p)\n",
    "\n",
    "    S[:,i] = T_ser/T_p\n",
    "    maxim[i] = max(S[:,i])\n",
    "    pos=(np.where(S[:,i]==maxim[i]))[0]\n",
    "    print(N,\", \", pos)\n",
    "    posx=\"XXX\"\n",
    "    f.write('\\n%-10d,%6s,%6s' %(N,pos,posx))\n",
    "    i=i+1\n",
    "f.close()"
   ]
  },
  {
   "cell_type": "code",
   "execution_count": 4,
   "metadata": {},
   "outputs": [
    {
     "data": {
      "image/png": "[encoded data removed]",
      "text/plain": [
       "<Figure size 432x288 with 1 Axes>"
      ]
     },
     "metadata": {
      "needs_background": "light"
     },
     "output_type": "display_data"
    }
   ],
   "source": [
    "index=0\n",
    "_= plt.plot(S[:,index])\n",
    "_= plt.vlines(np.where(S[:,index]==maxim[index]),0,maxim[index])"
   ]
  },
  {
   "cell_type": "code",
   "execution_count": null,
   "metadata": {},
   "outputs": [],
   "source": [
    "\n"
   ]
  },
  {
   "cell_type": "code",
   "execution_count": null,
   "metadata": {},
   "outputs": [],
   "source": []
  }
 ],
 "metadata": {
  "kernelspec": {
   "display_name": "Python 3",
   "language": "python",
   "name": "python3"
  },
  "language_info": {
   "codemirror_mode": {
    "name": "ipython",
    "version": 3
   },
   "file_extension": ".py",
   "mimetype": "text/x-python",
   "name": "python",
   "nbconvert_exporter": "python",
   "pygments_lexer": "ipython3",
   "version": "3.8.5"
  }
 },
 "nbformat": 4,
 "nbformat_minor": 4
}
