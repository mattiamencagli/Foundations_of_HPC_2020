{
 "cells": [
  {
   "cell_type": "code",
   "execution_count": 70,
   "metadata": {},
   "outputs": [],
   "source": [
    "import numpy as np\n",
    "import matplotlib.pylab as plt\n",
    "f = open(\"out.mpi\", \"r\")\n",
    "# modo stupido per leggere tutti i tempi (però funge...), forse un giorno scriverò qualcosa di meglio\n",
    "out=f.readlines()\n",
    "p4=[] ; p8=[] ; p12=[] ; p16=[] ; p20=[] ; p24=[] \n",
    "p28=[] ; p32=[] ; p36=[] ; p40=[] ; p44=[] ; p48=[] \n",
    "for i in range(4):\n",
    "    p4.append(float(out[i+2]))\n",
    "for i in range(8):\n",
    "    p8.append(float(out[i+2+5]))  \n",
    "for i in range(12):\n",
    "    p12.append(float(out[i+2+5+9])) \n",
    "for i in range(16):\n",
    "    p16.append(float(out[i+2+5+9+13])) \n",
    "for i in range(20):\n",
    "    p20.append(float(out[i+2+5+9+13+17])) \n",
    "for i in range(24):\n",
    "    p24.append(float(out[i+2+5+9+13+17+21])) \n",
    "for i in range(28):\n",
    "    p28.append(float(out[i+2+5+9+13+17+21+25])) \n",
    "for i in range(32):\n",
    "    p32.append(float(out[i+2+5+9+13+17+21+25+29])) \n",
    "for i in range(36):\n",
    "    p36.append(float(out[i+2+5+9+13+17+21+25+29+33])) \n",
    "for i in range(40):\n",
    "    p40.append(float(out[i+2+5+9+13+17+21+25+29+33+37])) \n",
    "for i in range(44):\n",
    "    p44.append(float(out[i+2+5+9+13+17+21+25+29+33+37+41]))\n",
    "for i in range(48):\n",
    "    p48.append(float(out[i+2+5+9+13+17+21+25+29+33+37+41+45])) \n",
    "f.close()\n",
    "time=[]\n",
    "time.append(float(out[0]))\n",
    "time.append(max(p4)); time.append(max(p8)); time.append(max(p12)); time.append(max(p16))\n",
    "time.append(max(p20)); time.append(max(p24)); time.append(max(p28)); time.append(max(p32))\n",
    "time.append(max(p36)); time.append(max(p40)); time.append(max(p44)); time.append(max(p48))\n",
    "del p4, p8, p12, p16, p20, p24, p28, p32, p36, p40, p44, p48\n",
    "time = np.asarray(time)"
   ]
  },
  {
   "cell_type": "code",
   "execution_count": 67,
   "metadata": {},
   "outputs": [],
   "source": [
    "f = open(\"out.time.mpi\",\"r\")\n",
    "bintime=[]\n",
    "out=f.readlines()\n",
    "numero=1\n",
    "for i in range(0,25,2):\n",
    "    a=''\n",
    "    for l in out[i]:\n",
    "        if (l.isnumeric() or l=='.'):\n",
    "            a += l\n",
    "        else:\n",
    "            break\n",
    "    bintime.append(float(a)/numero)\n",
    "    numero=(i+2)*2\n",
    "f.close()\n",
    "bintime = np.asarray(bintime)"
   ]
  },
  {
   "cell_type": "code",
   "execution_count": 68,
   "metadata": {},
   "outputs": [
    {
     "data": {
      "text/plain": [
       "array([2.63871542, 0.6589038 , 0.33297097, 0.22460311, 0.17152119,\n",
       "       0.14651038, 0.12233279, 0.10838793, 0.12540749, 0.08752446,\n",
       "       0.09626676, 0.09702768, 0.14974858])"
      ]
     },
     "execution_count": 68,
     "metadata": {},
     "output_type": "execute_result"
    }
   ],
   "source": [
    "time"
   ]
  },
  {
   "cell_type": "code",
   "execution_count": 69,
   "metadata": {},
   "outputs": [
    {
     "data": {
      "text/plain": [
       "array([2.71      , 0.71      , 0.38125   , 0.27833333, 0.225     ,\n",
       "       0.2015    , 0.18958333, 0.18071429, 0.195     , 0.17      ,\n",
       "       0.20475   , 0.2       , 0.2325    ])"
      ]
     },
     "execution_count": 69,
     "metadata": {},
     "output_type": "execute_result"
    }
   ],
   "source": [
    "bintime"
   ]
  },
  {
   "cell_type": "code",
   "execution_count": null,
   "metadata": {},
   "outputs": [],
   "source": []
  }
 ],
 "metadata": {
  "kernelspec": {
   "display_name": "Python 3",
   "language": "python",
   "name": "python3"
  },
  "language_info": {
   "codemirror_mode": {
    "name": "ipython",
    "version": 3
   },
   "file_extension": ".py",
   "mimetype": "text/x-python",
   "name": "python",
   "nbconvert_exporter": "python",
   "pygments_lexer": "ipython3",
   "version": "3.8.5"
  }
 },
 "nbformat": 4,
 "nbformat_minor": 4
}
