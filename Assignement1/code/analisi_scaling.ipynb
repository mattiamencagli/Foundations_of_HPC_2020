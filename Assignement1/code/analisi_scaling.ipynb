{
 "cells": [
  {
   "cell_type": "code",
   "execution_count": 7,
   "metadata": {},
   "outputs": [],
   "source": [
    "import numpy as np\n",
    "import matplotlib.pylab as plt\n",
    "N=[1,4,8,12,16,20,24,28,32,36,40,44,48]\n",
    "def READ(name, name_time):\n",
    "    f = open(name, \"r\")\n",
    "    # modo stupido per leggere tutti i tempi (però funge...), forse un giorno scriverò qualcosa di meglio\n",
    "    out=f.readlines()\n",
    "    p4=[] ; p8=[] ; p12=[] ; p16=[] ; p20=[] ; p24=[] \n",
    "    p28=[] ; p32=[] ; p36=[] ; p40=[] ; p44=[] ; p48=[] \n",
    "    for i in range(4):\n",
    "        p4.append(float(out[i+2]))\n",
    "    for i in range(8):\n",
    "        p8.append(float(out[i+2+5]))  \n",
    "    for i in range(12):\n",
    "        p12.append(float(out[i+2+5+9])) \n",
    "    for i in range(16):\n",
    "        p16.append(float(out[i+2+5+9+13])) \n",
    "    for i in range(20):\n",
    "        p20.append(float(out[i+2+5+9+13+17])) \n",
    "    for i in range(24):\n",
    "        p24.append(float(out[i+2+5+9+13+17+21])) \n",
    "    for i in range(28):\n",
    "        p28.append(float(out[i+2+5+9+13+17+21+25])) \n",
    "    for i in range(32):\n",
    "        p32.append(float(out[i+2+5+9+13+17+21+25+29])) \n",
    "    for i in range(36):\n",
    "        p36.append(float(out[i+2+5+9+13+17+21+25+29+33])) \n",
    "    for i in range(40):\n",
    "        p40.append(float(out[i+2+5+9+13+17+21+25+29+33+37])) \n",
    "    for i in range(44):\n",
    "        p44.append(float(out[i+2+5+9+13+17+21+25+29+33+37+41]))\n",
    "    for i in range(48):\n",
    "        p48.append(float(out[i+2+5+9+13+17+21+25+29+33+37+41+45])) \n",
    "    f.close()\n",
    "    time=[]\n",
    "    time.append(float(out[0]))\n",
    "    time.append(max(p4)); time.append(max(p8)); time.append(max(p12)); time.append(max(p16))\n",
    "    time.append(max(p20)); time.append(max(p24)); time.append(max(p28)); time.append(max(p32))\n",
    "    time.append(max(p36)); time.append(max(p40)); time.append(max(p44)); time.append(max(p48))\n",
    "    del p4, p8, p12, p16, p20, p24, p28, p32, p36, p40, p44, p48\n",
    "    time = np.asarray(time)\n",
    "    f = open(name_time,\"r\")\n",
    "    bintime=[]\n",
    "    out=f.readlines()\n",
    "    numero=1\n",
    "    for i in range(0,25,2):\n",
    "        tmp=''\n",
    "        for l in out[i]:\n",
    "            if (l.isnumeric() or l=='.'):\n",
    "                tmp += l\n",
    "            else:\n",
    "                break\n",
    "        bintime.append(float(tmp)/numero)\n",
    "        numero=(i+2)*2\n",
    "    f.close()\n",
    "    bintime = np.asarray(bintime)\n",
    "    return time, bintime\n",
    "\n",
    "def ERROR(t1, t2, t3):\n",
    "    res=[]\n",
    "    for i in range(len(t1)):\n",
    "        tmax=max(t1[i],t2[i],t3[i])\n",
    "        tmin=min(t1[i],t2[i],t3[i])\n",
    "        res.append((tmax-tmin)/2)\n",
    "    return np.asarray(res)"
   ]
  },
  {
   "cell_type": "code",
   "execution_count": 33,
   "metadata": {},
   "outputs": [],
   "source": [
    "n=10\n",
    "t1, bt1 = READ('out.mpi.s'+str(n)+'.1','out.time.mpi.s'+str(n)+'.1')\n",
    "t2, bt2 = READ('out.mpi.s'+str(n)+'.2','out.time.mpi.s'+str(n)+'.2')\n",
    "t3, bt3 = READ('out.mpi.s'+str(n)+'.3','out.time.mpi.s'+str(n)+'.3')\n",
    "tm = ( t1 + t2 + t3 )/3\n",
    "btm = ( bt1 + bt2 + bt3 )/3\n",
    "te = ERROR(t1,t2,t3)\n",
    "bte = ERROR(bt1,bt2,bt3)"
   ]
  },
  {
   "cell_type": "code",
   "execution_count": 34,
   "metadata": {},
   "outputs": [],
   "source": [
    "if n<10: nn='0'+str(n)\n",
    "else: nn=str(n)\n",
    "f = open(\"strong-scalability-10to\"+nn+\".csv\",\"w\")\n",
    "f.write('# processors run1,run2,run 3,avg,error_bar\\n')  \n",
    "for i in range(len(t1)):\n",
    "    f.write('%2d, %8f, %8f, %8f, %8f, %8f\\n' %(N[i],t1[i],t2[i],t3[i],tm[i],te[i]))"
   ]
  },
  {
   "cell_type": "code",
   "execution_count": 16,
   "metadata": {},
   "outputs": [
    {
     "data": {
      "image/png": "[encoded data removed]",
      "text/plain": [
       "<Figure size 432x288 with 1 Axes>"
      ]
     },
     "metadata": {
      "needs_background": "light"
     },
     "output_type": "display_data"
    }
   ],
   "source": [
    "_=plt.errorbar(N,tm,yerr=te, label='t')\n",
    "_=plt.errorbar(N,btm,yerr=bte, label='ubt')\n",
    "_=plt.legend() ; _=plt.xlabel('P'); _=plt.ylabel('time (avg)')"
   ]
  },
  {
   "cell_type": "code",
   "execution_count": null,
   "metadata": {},
   "outputs": [],
   "source": []
  },
  {
   "cell_type": "code",
   "execution_count": null,
   "metadata": {},
   "outputs": [],
   "source": []
  }
 ],
 "metadata": {
  "kernelspec": {
   "display_name": "Python 3",
   "language": "python",
   "name": "python3"
  },
  "language_info": {
   "codemirror_mode": {
    "name": "ipython",
    "version": 3
   },
   "file_extension": ".py",
   "mimetype": "text/x-python",
   "name": "python",
   "nbconvert_exporter": "python",
   "pygments_lexer": "ipython3",
   "version": "3.8.5"
  }
 },
 "nbformat": 4,
 "nbformat_minor": 4
}
